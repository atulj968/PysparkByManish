{
 "cells": [
  {
   "cell_type": "code",
   "execution_count": 0,
   "metadata": {
    "application/vnd.databricks.v1+cell": {
     "cellMetadata": {
      "byteLimit": 2048000,
      "rowLimit": 10000
     },
     "inputWidgets": {},
     "nuid": "4bfb84a6-9cf1-4da0-b09d-c50d8164571f",
     "showTitle": false,
     "tableResultSettingsMap": {},
     "title": ""
    }
   },
   "outputs": [],
   "source": [
    "path = \"/FileStore/tables/emp_write_data.csv\"\n",
    "# path = \"/FileStore/tables/csv_write/part-00000-tid-5193538616939858397-d0c3b7b8-c48b-4878-a0ca-ea874cb3d1f1-6-1-c000.csv\"\n",
    "# path = \"dbfs:/FileStore/tables/bucketBy_ID/part-00000-tid-2628333480039103411-47189851-c57d-419e-9d6f-fa3d5d07afbb-5-3_00002.c000.csv\""
   ]
  },
  {
   "cell_type": "markdown",
   "metadata": {
    "application/vnd.databricks.v1+cell": {
     "cellMetadata": {},
     "inputWidgets": {},
     "nuid": "e9035cd3-0991-4be0-9316-5f9c986ac623",
     "showTitle": false,
     "tableResultSettingsMap": {},
     "title": ""
    }
   },
   "source": [
    "## Save on disk"
   ]
  },
  {
   "cell_type": "code",
   "execution_count": 0,
   "metadata": {
    "application/vnd.databricks.v1+cell": {
     "cellMetadata": {
      "byteLimit": 2048000,
      "rowLimit": 10000
     },
     "inputWidgets": {},
     "nuid": "ec55100a-0203-472f-aadf-313b18688f7a",
     "showTitle": false,
     "tableResultSettingsMap": {},
     "title": ""
    }
   },
   "outputs": [
    {
     "output_type": "stream",
     "name": "stdout",
     "output_type": "stream",
     "text": [
      "+---+----------+--------+--------+----------+-----------+\n| id|      name|     age|  salary|   address|     gender|\n+---+----------+--------+--------+----------+-----------+\n|  1|    Manish|    26.0| 75000.0|     INDIA|          m|\n|  2|    Nikita|    23.0|100000.0|       USA|          f|\n|  3|    Pritam|    22.0|150000.0|     INDIA|          m|\n|  4|  Prantosh|    17.0|200000.0|     JAPAN|          m|\n|  5|    Vikash|    31.0|300000.0|       USA|          m|\n|  6|     Rahul|    55.0|300000.0|     INDIA|          m|\n|  7|      Raju|    67.0|540000.0|       USA|          m|\n|  8|   Praveen|    28.0| 70000.0|     JAPAN|          m|\n|  9|       Dev|    32.0|150000.0|     JAPAN|          m|\n| 10|    Sherin|    16.0| 25000.0|    RUSSIA|          f|\n| 11|      Ragu|    12.0| 35000.0|     INDIA|          f|\n| 12|     Sweta|    43.0|200000.0|     INDIA|          f|\n| 13|   Raushan|    48.0|650000.0|       USA|          m|\n| 14|    Mukesh|    36.0| 95000.0|    RUSSIA|          m|\n| 15|   Prakash|    52.0|750000.0|     INDIA|          m|\n+---+----------+--------+--------+----------+-----------+\n\n"
     ]
    }
   ],
   "source": [
    "df = spark.read.format(\"csv\")\\\n",
    "                .option(\"header\", True) \\\n",
    "                .option(\"mode\", \"PERMISSIVE\") \\\n",
    "                .option(\"inferschema\", \"true\") \\\n",
    "                .load(path)\n",
    "df.show()"
   ]
  },
  {
   "cell_type": "code",
   "execution_count": 0,
   "metadata": {
    "application/vnd.databricks.v1+cell": {
     "cellMetadata": {
      "byteLimit": 2048000,
      "rowLimit": 10000
     },
     "inputWidgets": {},
     "nuid": "b11d68f2-4312-4705-8f90-0e1143c6f2ac",
     "showTitle": false,
     "tableResultSettingsMap": {},
     "title": ""
    }
   },
   "outputs": [
    {
     "output_type": "stream",
     "name": "stdout",
     "output_type": "stream",
     "text": [
      "root\n |-- id: integer (nullable = true)\n |-- name: string (nullable = true)\n |-- age: double (nullable = true)\n |-- salary: double (nullable = true)\n |-- address: string (nullable = true)\n |-- gender: string (nullable = true)\n\n"
     ]
    }
   ],
   "source": [
    "df.printSchema()"
   ]
  },
  {
   "cell_type": "code",
   "execution_count": 0,
   "metadata": {
    "application/vnd.databricks.v1+cell": {
     "cellMetadata": {
      "byteLimit": 2048000,
      "rowLimit": 10000
     },
     "inputWidgets": {},
     "nuid": "bde1c0e4-e771-4bf4-aa8c-2adb8342d2a4",
     "showTitle": false,
     "tableResultSettingsMap": {},
     "title": ""
    }
   },
   "outputs": [],
   "source": [
    "df.write.format(\"csv\")\\\n",
    "        .option(\"header\", True)\\\n",
    "        .option(\"mode\", \"overwrite\")\\\n",
    "        .option(\"path\", \"/FileStore/tables/csv_write/\")\\\n",
    "        .save()"
   ]
  },
  {
   "cell_type": "code",
   "execution_count": 0,
   "metadata": {
    "application/vnd.databricks.v1+cell": {
     "cellMetadata": {
      "byteLimit": 2048000,
      "rowLimit": 10000
     },
     "inputWidgets": {},
     "nuid": "8504bd94-130f-49b0-9aa1-cbd2c0b9337b",
     "showTitle": false,
     "tableResultSettingsMap": {},
     "title": ""
    }
   },
   "outputs": [],
   "source": [
    "dbutils.fs.ls(\"/FileStore/tables/csv_write/\")"
   ]
  },
  {
   "cell_type": "markdown",
   "metadata": {
    "application/vnd.databricks.v1+cell": {
     "cellMetadata": {},
     "inputWidgets": {},
     "nuid": "9650e268-6415-424c-9c57-9c00e24449f1",
     "showTitle": false,
     "tableResultSettingsMap": {},
     "title": ""
    }
   },
   "source": [
    "## Partition By"
   ]
  },
  {
   "cell_type": "code",
   "execution_count": 0,
   "metadata": {
    "application/vnd.databricks.v1+cell": {
     "cellMetadata": {
      "byteLimit": 2048000,
      "rowLimit": 10000
     },
     "inputWidgets": {},
     "nuid": "36afa0af-bd70-4034-9ea8-c879855aaba2",
     "showTitle": false,
     "tableResultSettingsMap": {},
     "title": ""
    }
   },
   "outputs": [],
   "source": [
    "df.write.format(\"csv\")\\\n",
    "        .option(\"header\", True)\\\n",
    "        .option(\"mode\", \"overwrite\")\\\n",
    "        .partitionBy(\"address\")\\\n",
    "        .option(\"path\", \"/FileStore/tables/partitionby_address/\")\\\n",
    "        .save()"
   ]
  },
  {
   "cell_type": "code",
   "execution_count": 0,
   "metadata": {
    "application/vnd.databricks.v1+cell": {
     "cellMetadata": {
      "byteLimit": 2048000,
      "rowLimit": 10000
     },
     "inputWidgets": {},
     "nuid": "23ff616f-e4df-4fd1-a387-6e75c5585957",
     "showTitle": false,
     "tableResultSettingsMap": {},
     "title": ""
    }
   },
   "outputs": [
    {
     "output_type": "stream",
     "name": "stdout",
     "output_type": "stream",
     "text": [
      "Out[6]: [FileInfo(path='dbfs:/FileStore/tables/partitionby_address/_SUCCESS', name='_SUCCESS', size=0, modificationTime=1750503802000),\n FileInfo(path='dbfs:/FileStore/tables/partitionby_address/address=INDIA/', name='address=INDIA/', size=0, modificationTime=0),\n FileInfo(path='dbfs:/FileStore/tables/partitionby_address/address=JAPAN/', name='address=JAPAN/', size=0, modificationTime=0),\n FileInfo(path='dbfs:/FileStore/tables/partitionby_address/address=RUSSIA/', name='address=RUSSIA/', size=0, modificationTime=0),\n FileInfo(path='dbfs:/FileStore/tables/partitionby_address/address=USA/', name='address=USA/', size=0, modificationTime=0)]"
     ]
    }
   ],
   "source": [
    "dbutils.fs.ls(\"/FileStore/tables/partitionby_address/\")"
   ]
  },
  {
   "cell_type": "code",
   "execution_count": 0,
   "metadata": {
    "application/vnd.databricks.v1+cell": {
     "cellMetadata": {
      "byteLimit": 2048000,
      "rowLimit": 10000
     },
     "inputWidgets": {},
     "nuid": "f8377845-ad39-4fc6-8b0a-25820335e85f",
     "showTitle": false,
     "tableResultSettingsMap": {},
     "title": ""
    }
   },
   "outputs": [],
   "source": [
    "df.write.format(\"csv\")\\\n",
    "        .option(\"header\", True)\\\n",
    "        .option(\"mode\", \"overwrite\")\\\n",
    "        .partitionBy(\"address\",\"gender\")\\\n",
    "        .option(\"path\", \"/FileStore/tables/partitionby_address_gender/\")\\\n",
    "        .save()"
   ]
  },
  {
   "cell_type": "code",
   "execution_count": 0,
   "metadata": {
    "application/vnd.databricks.v1+cell": {
     "cellMetadata": {
      "byteLimit": 2048000,
      "rowLimit": 10000
     },
     "inputWidgets": {},
     "nuid": "3ebd004e-7277-437e-a01f-403886bef2d7",
     "showTitle": false,
     "tableResultSettingsMap": {},
     "title": ""
    }
   },
   "outputs": [
    {
     "output_type": "stream",
     "name": "stdout",
     "output_type": "stream",
     "text": [
      "Out[8]: [FileInfo(path='dbfs:/FileStore/tables/partitionby_address_gender/_SUCCESS', name='_SUCCESS', size=0, modificationTime=1750504053000),\n FileInfo(path='dbfs:/FileStore/tables/partitionby_address_gender/address=INDIA/', name='address=INDIA/', size=0, modificationTime=0),\n FileInfo(path='dbfs:/FileStore/tables/partitionby_address_gender/address=JAPAN/', name='address=JAPAN/', size=0, modificationTime=0),\n FileInfo(path='dbfs:/FileStore/tables/partitionby_address_gender/address=RUSSIA/', name='address=RUSSIA/', size=0, modificationTime=0),\n FileInfo(path='dbfs:/FileStore/tables/partitionby_address_gender/address=USA/', name='address=USA/', size=0, modificationTime=0)]"
     ]
    }
   ],
   "source": [
    "dbutils.fs.ls(\"/FileStore/tables/partitionby_address_gender/\")"
   ]
  },
  {
   "cell_type": "code",
   "execution_count": 0,
   "metadata": {
    "application/vnd.databricks.v1+cell": {
     "cellMetadata": {
      "byteLimit": 2048000,
      "rowLimit": 10000
     },
     "inputWidgets": {},
     "nuid": "ad976a55-597e-48ce-9bb4-ed84b1cbf6a7",
     "showTitle": false,
     "tableResultSettingsMap": {},
     "title": ""
    }
   },
   "outputs": [
    {
     "output_type": "stream",
     "name": "stdout",
     "output_type": "stream",
     "text": [
      "Out[10]: [FileInfo(path='dbfs:/FileStore/tables/partitionby_address_gender/address=JAPAN/gender=m/', name='gender=m/', size=0, modificationTime=0)]"
     ]
    }
   ],
   "source": [
    "dbutils.fs.ls(\"/FileStore/tables/partitionby_address_gender/address=JAPAN\")"
   ]
  },
  {
   "cell_type": "markdown",
   "metadata": {
    "application/vnd.databricks.v1+cell": {
     "cellMetadata": {},
     "inputWidgets": {},
     "nuid": "4e1175af-99d6-44d4-bd6a-48c39b47378f",
     "showTitle": false,
     "tableResultSettingsMap": {},
     "title": ""
    }
   },
   "source": [
    "## BucketBy"
   ]
  },
  {
   "cell_type": "code",
   "execution_count": 0,
   "metadata": {
    "application/vnd.databricks.v1+cell": {
     "cellMetadata": {
      "byteLimit": 2048000,
      "rowLimit": 10000
     },
     "inputWidgets": {},
     "nuid": "73b3af99-4cb6-4247-911c-9a8f34efe56a",
     "showTitle": false,
     "tableResultSettingsMap": {},
     "title": ""
    }
   },
   "outputs": [],
   "source": [
    "df.write.format(\"csv\")\\\n",
    "        .option(\"header\", True)\\\n",
    "        .option(\"mode\", \"overwrite\")\\\n",
    "        .bucketBy(3,\"id\")\\\n",
    "        .option(\"path\", \"/FileStore/tables/bucketBy_ID/\")\\\n",
    "        .saveAsTable(\"bucketBy_ID\")"
   ]
  },
  {
   "cell_type": "code",
   "execution_count": 0,
   "metadata": {
    "application/vnd.databricks.v1+cell": {
     "cellMetadata": {
      "byteLimit": 2048000,
      "rowLimit": 10000
     },
     "inputWidgets": {},
     "nuid": "2d0adcc9-bda3-40b6-9bc3-e738187b4b68",
     "showTitle": false,
     "tableResultSettingsMap": {},
     "title": ""
    }
   },
   "outputs": [
    {
     "output_type": "stream",
     "name": "stdout",
     "output_type": "stream",
     "text": [
      "Out[12]: [FileInfo(path='dbfs:/FileStore/tables/bucketBy_ID/_SUCCESS', name='_SUCCESS', size=0, modificationTime=1750505786000),\n FileInfo(path='dbfs:/FileStore/tables/bucketBy_ID/_committed_2628333480039103411', name='_committed_2628333480039103411', size=303, modificationTime=1750505785000),\n FileInfo(path='dbfs:/FileStore/tables/bucketBy_ID/_started_2628333480039103411', name='_started_2628333480039103411', size=0, modificationTime=1750505785000),\n FileInfo(path='dbfs:/FileStore/tables/bucketBy_ID/part-00000-tid-2628333480039103411-47189851-c57d-419e-9d6f-fa3d5d07afbb-5-1_00000.c000.csv', name='part-00000-tid-2628333480039103411-47189851-c57d-419e-9d6f-fa3d5d07afbb-5-1_00000.c000.csv', size=306, modificationTime=1750505785000),\n FileInfo(path='dbfs:/FileStore/tables/bucketBy_ID/part-00000-tid-2628333480039103411-47189851-c57d-419e-9d6f-fa3d5d07afbb-5-2_00001.c000.csv', name='part-00000-tid-2628333480039103411-47189851-c57d-419e-9d6f-fa3d5d07afbb-5-2_00001.c000.csv', size=125, modificationTime=1750505785000),\n FileInfo(path='dbfs:/FileStore/tables/bucketBy_ID/part-00000-tid-2628333480039103411-47189851-c57d-419e-9d6f-fa3d5d07afbb-5-3_00002.c000.csv', name='part-00000-tid-2628333480039103411-47189851-c57d-419e-9d6f-fa3d5d07afbb-5-3_00002.c000.csv', size=127, modificationTime=1750505785000)]"
     ]
    }
   ],
   "source": [
    "dbutils.fs.ls(\"/FileStore/tables/bucketBy_ID/\")"
   ]
  },
  {
   "cell_type": "code",
   "execution_count": 0,
   "metadata": {
    "application/vnd.databricks.v1+cell": {
     "cellMetadata": {},
     "inputWidgets": {},
     "nuid": "47b105dc-cd72-45bf-8ef8-e5a7bb664c61",
     "showTitle": false,
     "tableResultSettingsMap": {},
     "title": ""
    }
   },
   "outputs": [],
   "source": []
  }
 ],
 "metadata": {
  "application/vnd.databricks.v1+notebook": {
   "computePreferences": null,
   "dashboards": [],
   "environmentMetadata": {
    "base_environment": "",
    "environment_version": "1"
   },
   "inputWidgetPreferences": null,
   "language": "python",
   "notebookMetadata": {
    "pythonIndentUnit": 4
   },
   "notebookName": "df_disk_save",
   "widgets": {}
  }
 },
 "nbformat": 4,
 "nbformat_minor": 0
}